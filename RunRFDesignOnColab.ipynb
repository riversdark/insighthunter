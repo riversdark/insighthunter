{
  "nbformat": 4,
  "nbformat_minor": 0,
  "metadata": {
    "colab": {
      "name": "RunRFDesignOnColab.ipynb",
      "provenance": []
    },
    "kernelspec": {
      "name": "python3",
      "display_name": "Python 3"
    },
    "language_info": {
      "name": "python"
    },
    "accelerator": "GPU",
    "gpuClass": "standard"
  },
  "cells": [
    {
      "cell_type": "markdown",
      "source": [
        "# RunRFDesignOnColab.ipynb\n",
        "This notebook is for running [RFDesign](https://github.com/RosettaCommons/RFDesign) on Google Colaboratory.\n",
        "\n",
        "\n",
        "\n",
        "**License**\n",
        "\n",
        "RFDesign and its parameters licensed under [BSD License](https://github.com/RosettaCommons/RFDesign/blob/main/LICENSE).\n"
      ],
      "metadata": {
        "id": "RcIP94vLSho-"
      }
    },
    {
      "cell_type": "code",
      "execution_count": null,
      "metadata": {
        "cellView": "form",
        "id": "ADWkpv9fKfsF"
      },
      "outputs": [],
      "source": [
        "#@title 0. Install RFDesign\n",
        "#@markdown Please run this cell by pressing the ▶ _Play_ button on the left.\n",
        "\n",
        "#@markdown [RFDesign](https://github.com/RosettaCommons/RFDesign) will be installed.\n",
        "\n",
        "!git clone https://github.com/RosettaCommons/RFDesign.git"
      ]
    },
    {
      "cell_type": "code",
      "source": [
        "#@title 0.1 Install condacolab\n",
        "#@markdown If you get an Error, run this cell again.\n",
        "!pip install -q condacolab\n",
        "import condacolab\n",
        "condacolab.install()"
      ],
      "metadata": {
        "cellView": "form",
        "id": "1nmIKCiYOvuF"
      },
      "execution_count": null,
      "outputs": []
    },
    {
      "cell_type": "code",
      "source": [
        "#@title 0.2 Setup of python environment and download weight files\n",
        "\n",
        "%cd /content/RFDesign/envs/\n",
        "!conda env update -n base -f SE3-nvidia.yml\n",
        "\n",
        "%cd /content/RFDesign/hallucination/weights/rf_Nov05/\n",
        "!wget http://files.ipd.uw.edu/pub/rfdesign/weights/BFF_last.pt\n",
        "\n",
        "%cd /content/RFDesign/inpainting/\n",
        "!mkdir weights\n",
        "%cd ./weights/\n",
        "!wget http://files.ipd.uw.edu/pub/rfdesign/weights/BFF_mix_epoch25.pt"
      ],
      "metadata": {
        "cellView": "form",
        "id": "YNjtPiAxO9h2"
      },
      "execution_count": null,
      "outputs": []
    },
    {
      "cell_type": "code",
      "source": [
        "#@title 1. Test run for hallucination\n",
        "#@markdown You can download the result of this test run as \"/content/RFDesign/hallucination/tests/output.zip\".\n",
        "%cd /content/RFDesign/hallucination/tests/\n",
        "!bash ./run_tests.sh\n",
        "!zip -r output.zip ./output"
      ],
      "metadata": {
        "cellView": "form",
        "id": "fMSe6YCCLt9X"
      },
      "execution_count": null,
      "outputs": []
    },
    {
      "cell_type": "code",
      "source": [
        "#@title 2. Test run for Inprinting\n",
        "#@markdown You can download the result of this test run as \"/content/RFDesign/inpainting/tests/out.zip\".\n",
        "%cd /content/RFDesign/inpainting/tests/\n",
        "!bash ./run_tests.sh\n",
        "!zip -r out.zip ./out"
      ],
      "metadata": {
        "cellView": "form",
        "id": "Ew6CcFNdL71V"
      },
      "execution_count": null,
      "outputs": []
    }
  ]
}