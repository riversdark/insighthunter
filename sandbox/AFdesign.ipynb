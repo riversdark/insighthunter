{
 "cells": [
  {
   "cell_type": "markdown",
   "metadata": {},
   "source": [
    "#AfDesign (v1.0.7)\n",
    "Backprop through AlphaFold for protein design.\n",
    "\n",
    "**WARNING**\n",
    "1.   This notebook is in active development and was designed for demonstration purposes only.\n",
    "2.   Using AfDesign as the only \"loss\" function for design might be a bad idea, you may find adversarial sequences (aka. sequences that trick AlphaFold)."
   ]
  },
  {
   "cell_type": "code",
   "execution_count": null,
   "metadata": {},
   "outputs": [],
   "source": [
    "#@title install\n",
    "%%bash\n",
    "if [ ! -d params ]; then\n",
    "  # get code\n",
    "  pip -q install git+https://github.com/sokrypton/ColabDesign.git\n",
    "  # for debugging\n",
    "  ln -s /usr/local/lib/python3.7/dist-packages/colabdesign colabdesign\n",
    "  # download params\n",
    "  mkdir params\n",
    "  curl -fsSL https://storage.googleapis.com/alphafold/alphafold_params_2022-03-02.tar | tar x -C params\n",
    "fi"
   ]
  },
  {
   "cell_type": "code",
   "execution_count": null,
   "metadata": {},
   "outputs": [],
   "source": [
    "#@title import libraries\n",
    "import warnings\n",
    "warnings.simplefilter(action='ignore', category=FutureWarning)\n",
    "\n",
    "import os\n",
    "from colabdesign import mk_afdesign_model, clear_mem\n",
    "from IPython.display import HTML\n",
    "from google.colab import files\n",
    "import numpy as np\n",
    "\n",
    "#########################\n",
    "def get_pdb(pdb_code=\"\"):\n",
    "  if pdb_code is None or pdb_code == \"\":\n",
    "    upload_dict = files.upload()\n",
    "    pdb_string = upload_dict[list(upload_dict.keys())[0]]\n",
    "    with open(\"tmp.pdb\",\"wb\") as out: out.write(pdb_string)\n",
    "    return \"tmp.pdb\"\n",
    "  else:\n",
    "    os.system(f\"wget -qnc https://files.rcsb.org/view/{pdb_code}.pdb\")\n",
    "    return f\"{pdb_code}.pdb\""
   ]
  },
  {
   "cell_type": "markdown",
   "metadata": {},
   "source": [
    "# fixed backbone design (fixbb)\n",
    "For a given protein backbone, generate/design a new sequence that AlphaFold thinks folds into that conformation. "
   ]
  },
  {
   "cell_type": "code",
   "execution_count": null,
   "metadata": {},
   "outputs": [],
   "source": [
    "clear_mem()\n",
    "af_model = mk_afdesign_model(protocol=\"fixbb\")\n",
    "af_model.prep_inputs(pdb_filename=get_pdb(\"1TEN\"), chain=\"A\")\n",
    "\n",
    "print(\"length\",  af_model._len)\n",
    "print(\"weights\", af_model.opt[\"weights\"])"
   ]
  },
  {
   "cell_type": "code",
   "execution_count": null,
   "metadata": {},
   "outputs": [],
   "source": [
    "af_model.restart()\n",
    "af_model.design_3stage()"
   ]
  },
  {
   "cell_type": "code",
   "execution_count": null,
   "metadata": {},
   "outputs": [],
   "source": [
    "af_model.plot_traj()  "
   ]
  },
  {
   "cell_type": "code",
   "execution_count": null,
   "metadata": {},
   "outputs": [],
   "source": [
    "af_model.save_pdb(f\"{af_model.protocol}.pdb\")\n",
    "af_model.plot_pdb()"
   ]
  },
  {
   "cell_type": "code",
   "execution_count": null,
   "metadata": {},
   "outputs": [],
   "source": [
    "HTML(af_model.animate())"
   ]
  },
  {
   "cell_type": "code",
   "execution_count": null,
   "metadata": {},
   "outputs": [],
   "source": [
    "af_model.get_seqs()"
   ]
  },
  {
   "cell_type": "markdown",
   "metadata": {},
   "source": [
    "# hallucination\n",
    "For a given length, generate/hallucinate a protein sequence that AlphaFold thinks folds into a well structured protein (high plddt, low pae, many contacts)."
   ]
  },
  {
   "cell_type": "code",
   "execution_count": null,
   "metadata": {},
   "outputs": [],
   "source": [
    "clear_mem()\n",
    "af_model = mk_afdesign_model(protocol=\"hallucination\")\n",
    "af_model.prep_inputs(length=100)\n",
    "\n",
    "print(\"length\",af_model._len)\n",
    "print(\"weights\",af_model.opt[\"weights\"])"
   ]
  },
  {
   "cell_type": "code",
   "execution_count": null,
   "metadata": {},
   "outputs": [],
   "source": [
    "# pre-design with gumbel initialization and softmax activation\n",
    "af_model.restart(mode=\"gumbel\")\n",
    "af_model.design_soft(50)\n",
    "\n",
    "# three stage design  \n",
    "af_model.set_seq(af_model.aux[\"seq\"][\"pseudo\"])\n",
    "af_model.design_3stage(50,50,10)"
   ]
  },
  {
   "cell_type": "code",
   "execution_count": null,
   "metadata": {},
   "outputs": [],
   "source": [
    "af_model.save_pdb(f\"{af_model.protocol}.pdb\")\n",
    "af_model.plot_pdb()"
   ]
  },
  {
   "cell_type": "code",
   "execution_count": null,
   "metadata": {},
   "outputs": [],
   "source": [
    "HTML(af_model.animate())"
   ]
  },
  {
   "cell_type": "code",
   "execution_count": null,
   "metadata": {},
   "outputs": [],
   "source": [
    "af_model.get_seqs()"
   ]
  },
  {
   "cell_type": "markdown",
   "metadata": {},
   "source": [
    "# binder hallucination\n",
    "For a given protein target and protein binder length, generate/hallucinate a protein binder sequence AlphaFold thinks will bind to the target structure.\n",
    "To do this, we minimize PAE and maximize number of contacts at the interface and within the binder, and we maximize pLDDT of the binder.\n",
    "By default, AlphaFold-ptm with residue index offset hack is used. To enable AlphaFold-multimer set: mk_afdesign_model(use_multimer=True).\n"
   ]
  },
  {
   "cell_type": "code",
   "execution_count": null,
   "metadata": {},
   "outputs": [],
   "source": [
    "clear_mem()\n",
    "af_model = mk_afdesign_model(protocol=\"binder\")\n",
    "af_model.prep_inputs(pdb_filename=get_pdb(\"4MZK\"), chain=\"A\", binder_len=19)\n",
    "\n",
    "print(\"target_length\",af_model._target_len)\n",
    "print(\"binder_length\",af_model._binder_len)\n",
    "print(\"weights\",af_model.opt[\"weights\"])"
   ]
  },
  {
   "cell_type": "code",
   "execution_count": null,
   "metadata": {},
   "outputs": [],
   "source": [
    "af_model.restart()\n",
    "af_model.design_3stage(100,100,10)"
   ]
  },
  {
   "cell_type": "code",
   "execution_count": null,
   "metadata": {},
   "outputs": [],
   "source": [
    "af_model.save_pdb(f\"{af_model.protocol}.pdb\")\n",
    "af_model.plot_pdb()"
   ]
  },
  {
   "cell_type": "code",
   "execution_count": null,
   "metadata": {},
   "outputs": [],
   "source": [
    "HTML(af_model.animate())"
   ]
  },
  {
   "cell_type": "code",
   "execution_count": null,
   "metadata": {},
   "outputs": [],
   "source": [
    "af_model.get_seqs()"
   ]
  },
  {
   "cell_type": "markdown",
   "metadata": {},
   "source": [
    "#**ADVANCED**"
   ]
  },
  {
   "cell_type": "markdown",
   "metadata": {},
   "source": [
    "## partial hallucination + custom Radius of Gyration (rg) loss\n",
    "mix supervised (fixbb) and unsupervised (hallucination) losses to constrain the halluciation process."
   ]
  },
  {
   "cell_type": "code",
   "execution_count": null,
   "metadata": {},
   "outputs": [],
   "source": [
    "import jax\n",
    "import jax.numpy as jnp\n",
    "from colabdesign.af.alphafold.common import residue_constants\n",
    "\n",
    "# first off, let's implement a custom Radius of Gyration loss function\n",
    "def rg_loss(inputs, outputs):\n",
    "  positions = outputs[\"structure_module\"][\"final_atom_positions\"]\n",
    "  ca = positions[:,residue_constants.atom_order[\"CA\"]]\n",
    "  center = ca.mean(0)\n",
    "  rg = jnp.sqrt(jnp.square(ca - center).sum(-1).mean() + 1e-8)\n",
    "  rg_th = 2.38 * ca.shape[0] ** 0.365\n",
    "  rg = jax.nn.elu(rg - rg_th)\n",
    "  return {\"rg\":rg}"
   ]
  },
  {
   "cell_type": "code",
   "execution_count": null,
   "metadata": {},
   "outputs": [],
   "source": [
    "clear_mem()\n",
    "af_model = mk_afdesign_model(protocol=\"partial\",\n",
    "                             loss_callback=rg_loss, # add rg_loss\n",
    "                             use_templates=False)   # set True to constrain positions using template input\n",
    "\n",
    "af_model.opt[\"weights\"][\"rg\"] = 0.1  # optional: specify weight for rg_loss\n",
    "\n",
    "af_model.prep_inputs(pdb_filename=get_pdb(\"6MRR\"),\n",
    "                     chain=\"A\",\n",
    "                     pos=\"3-30,33-68\",  # define positions to contrain\n",
    "                     length=100)          # total length if different from input pdb\n",
    "\n",
    "af_model.rewire(loops=[36]) # set loop length between segments                     "
   ]
  },
  {
   "cell_type": "code",
   "execution_count": null,
   "metadata": {},
   "outputs": [],
   "source": [
    "# initialize with wildtype seq, fill in the rest with soft_gumbel distribution\n",
    "af_model.restart(mode=[\"soft\",\"gumbel\",\"wildtype\"])\n",
    "af_model.design_3stage(100, 100, 10)"
   ]
  },
  {
   "cell_type": "code",
   "execution_count": null,
   "metadata": {},
   "outputs": [],
   "source": [
    "af_model.save_pdb(f\"{af_model.protocol}.pdb\")\n",
    "af_model.plot_pdb()"
   ]
  },
  {
   "cell_type": "code",
   "execution_count": null,
   "metadata": {},
   "outputs": [],
   "source": [
    "HTML(af_model.animate())"
   ]
  },
  {
   "cell_type": "code",
   "execution_count": null,
   "metadata": {},
   "outputs": [],
   "source": [
    "af_model.get_seqs()"
   ]
  }
 ],
 "metadata": {
  "kernelspec": {
   "display_name": "Python 3",
   "name": "python3"
  }
 },
 "nbformat": 4,
 "nbformat_minor": 0
}
