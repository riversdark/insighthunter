{
 "cells": [
  {
   "cell_type": "markdown",
   "metadata": {},
   "source": [
    "# AAB \n",
    "\n",
    "> Binding the engineered AAB enzyme to the new substrate acrylic acid.\n"
   ]
  },
  {
   "cell_type": "markdown",
   "metadata": {},
   "source": [
    "Here we perform the molecular binding between the enzyme [Aspartate ammonia-lyase](https://en.wikipedia.org/wiki/Aspartate_ammonia-lyase) (also known as aspartase, code named AAB, protein code [3R6V](https://www.rcsb.org/structure/3R6V)) to it's target substrate acrylic acid, PDB ligand code [AKR](https://www.rcsb.org/ligand/AKR), DrugBank ligand code [DB02579](https://go.drugbank.com/drugs/DB02579), a small molecule with both medicinal and industrial usages. \n",
    " \n",
    "Note that **docking algorithms**, and in particular, **AutoDock Vina** program used here, are **non-deterministic**. That means that each run could get slightly different results (see [AutoDock Vina manual](http://vina.scripps.edu/manual.html)). For this reason it's highly recommoned to run this notebook interactively.\n",
    "\n",
    "Another point worthing noticing is that the substrate binds to the enzyme at the loop region. Since the loop region is highly flexible, the binding result might not be totally reliable. For this reason we should also consider loop binding or full MD simulation, to obtain more accurate results."
   ]
  },
  {
   "cell_type": "markdown",
   "metadata": {},
   "source": [
    "## Input parameters\n",
    "**Input parameters** needed:\n",
    "\n",
    " - **pdb_code**: PDB code of the experimental complex structure `3R6V`.\n",
    "\n",
    "Here the aspartase structure from Bacillus sp. YM55-1 in complex with the L-aspartate, with a resolution of 2.6 A, will be used for docking, after stripping the samll molecules binded with it. Also the crystal structure has 8 aspartase chains, but for the catalyst reaction we only need 4 of them, so we'll also strip the other 4.\n",
    "\n",
    "In molecular binding it's perhaps best to start with the APO protein structure, that is, the protein unbound to any ligand, because enzyme structures can change when bond to other molecules. But in general any structure with the same primary sequence can be used. This structure of the **protein-ligand complex** will be also used in the last step to check **how close** the resulting **docking pose** is from the known **experimental structure**. \n",
    "\n",
    " - **ligandCode**: Ligand PDB code (3-letter code) for the small molecule, `AKR`.\n",
    " - **pockets_dir**: Name of a folder to write temporary files. we'll use `pockets_akr`."
   ]
  },
  {
   "cell_type": "code",
   "execution_count": null,
   "metadata": {},
   "outputs": [],
   "source": [
    "#! export\n",
    "import nglview\n",
    "import ipywidgets"
   ]
  },
  {
   "cell_type": "code",
   "execution_count": null,
   "metadata": {},
   "outputs": [],
   "source": [
    "pdb_code = \"3R6V\"         \n",
    "ligand_code = \"AKR\"       \n",
    "pockets_dir = \"pockets\""
   ]
  },
  {
   "cell_type": "markdown",
   "metadata": {},
   "source": [
    "## Fetching PDB structure\n",
    "Downloading **PDB structure** with the **protein molecule** from the PDBe database.<br>\n",
    "Alternatively, a **PDB file** can be used as starting structure. <br>\n",
    "***\n",
    "**Building Blocks** used:\n",
    " - [pdb](https://biobb-io.readthedocs.io/en/latest/api.html#module-api.pdb) from **biobb_io.api.pdb**"
   ]
  },
  {
   "cell_type": "code",
   "execution_count": null,
   "metadata": {},
   "outputs": [],
   "source": [
    "from biobb_io.api.pdb import pdb\n",
    "\n",
    "download_pdb = \"download.pdb\"\n",
    "prop = {\n",
    "  \"pdb_code\": pdb_code,\n",
    "  \"filter\": [\"ATOM\", \"HETATM\"]\n",
    "}\n",
    "\n",
    "pdb(output_pdb_path=download_pdb,\n",
    "    properties=prop)"
   ]
  },
  {
   "cell_type": "markdown",
   "metadata": {},
   "source": [
    "extract targets\n",
    "\n",
    "Extract **protein structure** from the **downloaded PDB file**. Removing **any extra molecule** (ligands, ions, water molecules) and **redundant chains**.\n",
    "\n",
    "The **protein structure** will be used as a **target** in the **protein-ligand docking process**. \n",
    "\n",
    "**Building Blocks** used:\n",
    " - [extract_molecule](https://biobb-structure-utils.readthedocs.io/en/latest/utils.html#module-utils.extract_molecule) from **biobb_structure_utils.utils.extract_molecule**\n",
    " - there are also other methods available to choose other molecules for finer control. Refer to the documentation to know more. Some of the useful ones include\n",
    "    - remove_ligand\n",
    "    - remove_pdb_water\n",
    "    - remove_molecules\n",
    "    - etc."
   ]
  },
  {
   "cell_type": "markdown",
   "metadata": {},
   "source": [
    "extract receptor"
   ]
  },
  {
   "cell_type": "code",
   "execution_count": null,
   "metadata": {},
   "outputs": [],
   "source": [
    "from biobb_structure_utils.utils.extract_molecule import extract_molecule\n",
    "pdb_protein = 'pdb_protein.pdb'\n",
    "\n",
    "prop = {\n",
    "    'molecule_type': 'chains',\n",
    "    'chains': ['A', 'B', 'C', 'D']\n",
    "}\n",
    "\n",
    "extract_molecule(\n",
    "    input_structure_path=download_pdb,\n",
    "    output_molecule_path=pdb_protein,\n",
    "    properties=prop)"
   ]
  },
  {
   "cell_type": "markdown",
   "metadata": {},
   "source": [
    "Visualize the receptor"
   ]
  },
  {
   "cell_type": "code",
   "execution_count": null,
   "metadata": {},
   "outputs": [],
   "source": [
    "view = nglview.show_structure_file(pdb_protein, default=True)\n",
    "view.center()\n",
    "view._remote_call('setSize', target='Widget', args=['','600px'])"
   ]
  },
  {
   "cell_type": "code",
   "execution_count": null,
   "metadata": {},
   "outputs": [],
   "source": [
    "view"
   ]
  },
  {
   "cell_type": "markdown",
   "metadata": {},
   "source": [
    "extract ligand "
   ]
  },
  {
   "cell_type": "code",
   "execution_count": null,
   "metadata": {},
   "outputs": [],
   "source": [
    "from biobb_structure_utils.utils.extract_heteroatoms import extract_heteroatoms\n",
    "\n",
    "pdb_ligand = 'pdb_ligand.pdb'\n",
    "prop = {\n",
    "    'heteroatoms': [\n",
    "        {\n",
    "            'name': 'ASP',\n",
    "            'res_id': '469',\n",
    "            'chain': 'B',\n",
    "            'model': '1'\n",
    "        }\n",
    "    ]\n",
    "}\n",
    "\n",
    "extract_heteroatoms(\n",
    "    input_structure_path=download_pdb,\n",
    "    output_heteroatom_path=pdb_ligand,\n",
    "    properties=prop)"
   ]
  },
  {
   "cell_type": "markdown",
   "metadata": {},
   "source": [
    "Visualize the ligand"
   ]
  },
  {
   "cell_type": "code",
   "execution_count": null,
   "metadata": {},
   "outputs": [],
   "source": [
    "view = nglview.show_structure_file(pdb_ligand, default=True)\n",
    "view.center()\n",
    "view._remote_call('setSize', target='Widget', args=['','600px'])\n",
    "view"
   ]
  },
  {
   "cell_type": "markdown",
   "metadata": {},
   "source": [
    "combine the receptor and the ligand"
   ]
  },
  {
   "cell_type": "code",
   "execution_count": null,
   "metadata": {},
   "outputs": [],
   "source": [
    "from biobb_structure_utils.utils.cat_pdb import cat_pdb\n",
    "\n",
    "pdb_complex = \"pdb_complex.pdb\"\n",
    "\n",
    "cat_pdb(input_structure1 = pdb_protein,\n",
    "             input_structure2 = pdb_ligand,\n",
    "             output_structure_path = pdb_complex)"
   ]
  },
  {
   "cell_type": "markdown",
   "metadata": {},
   "source": [
    "Visualize the complex"
   ]
  },
  {
   "cell_type": "code",
   "execution_count": null,
   "metadata": {},
   "outputs": [],
   "source": [
    "view = nglview.NGLWidget()\n",
    "\n",
    "# v1 = Experimental Structure\n",
    "v1 = view.add_component(pdb_ligand)\n",
    "\n",
    "v1.clear()\n",
    "v1.add_representation(repr_type='licorice', \n",
    "                     selection='ASP',\n",
    "                     radius=0.5)\n",
    "\n",
    "# v2 = Docking result\n",
    "v2 = view.add_component(pdb_protein)\n",
    "v2.clear()\n",
    "v2.add_representation(repr_type='cartoon')\n",
    "\n",
    "view._remote_call('setSize', target='Widget', args=['','600px'])\n",
    "view\n"
   ]
  },
  {
   "cell_type": "markdown",
   "metadata": {},
   "source": [
    "## Computing Protein Cavities (fpocket)\n",
    "\n",
    "Computing the **protein cavities** (pockets) using the well-known [**fpocket**](https://bmcbioinformatics.biomedcentral.com/articles/10.1186/1471-2105-10-168) tool.\n",
    "These **cavities** will be then used in the **docking procedure** to try to find the **best region of the protein surface** where the small molecule can **bind**. \n",
    "\n",
    "Because this is a known enzyme with a known active site, we already have a specific binding site in mind, we have already seen it in the originally downloaded PDB file. Here we can use fpocket to find all the pockets, then choose the one comply with the known binding site. We can of course also inspect other pockets later.\n",
    "\n",
    "**fpocket** input parameters, such as **minimum** and **maximum radius** (in Angstroms) the alpha spheres might have in a **binding pocket** can be adjusted (min_radius, max_radius) . Parameters used in this particular example are 3Å for the **minimum radius** and 6Å for the **maximum radius**. The **minimum number of alpha spheres** a pocket must contain in order to figure in the results is also adjusted to 35. See the [fpocket manual](http://fpocket.sourceforge.net/manual_fpocket2.pdf) for more information.\n",
    "\n",
    "**Building Blocks** used:\n",
    " - [fpocket_run](https://biobb-vs.readthedocs.io/en/latest/fpocket.html#module-fpocket.fpocket_run) from **biobb_vs.fpocket.fpocket_run**"
   ]
  },
  {
   "cell_type": "code",
   "execution_count": null,
   "metadata": {},
   "outputs": [],
   "source": [
    "from biobb_vs.fpocket.fpocket_run import fpocket_run\n",
    "\n",
    "fpocket_all_pockets = \"fpocket_all_pockets.zip\"\n",
    "fpocket_summary = \"fpocket_summary.json\"\n",
    "prop = {\n",
    "    \"min_radius\": 3,\n",
    "    \"max_radius\": 6,\n",
    "    \"num_spheres\": 35,\n",
    "    'sort_by': 'druggability_score'\n",
    "}\n",
    "\n",
    "fpocket_run(input_pdb_path=pdb_protein,\n",
    "        output_pockets_zip = fpocket_all_pockets,\n",
    "        output_summary=fpocket_summary,\n",
    "        properties=prop)"
   ]
  },
  {
   "cell_type": "markdown",
   "metadata": {},
   "source": [
    "<a id=\"checkJson\"></a>\n",
    "### Checking fpocket output (json)\n",
    "Checking the **fpocket** output from the **json file**. Every **pocket** has a separated entry in the json output, with information such as: **score, druggability score, volume, hydrophobicity, polarity or flexibility**. "
   ]
  },
  {
   "cell_type": "code",
   "execution_count": null,
   "metadata": {},
   "outputs": [],
   "source": [
    "# import json\n",
    "\n",
    "# with open(fpocket_summary, 'r') as json_file:\n",
    "#     data = json.load(json_file)\n",
    "#     print(json.dumps(data, indent=4))"
   ]
  },
  {
   "cell_type": "markdown",
   "metadata": {},
   "source": [
    "## Filtering Protein Cavities (fpocket output)\n",
    "Filtering the **protein cavities** (pockets) identified by **fpocket**.<br>\n",
    "\n",
    "**Building Blocks** used:\n",
    " - [fpocket_filter](https://biobb-vs.readthedocs.io/en/latest/fpocket.html#module-fpocket.fpocket_filter) from **biobb_vs.fpocket.fpocket_filter**\n",
    "\n",
    "We can, for example, filter out the cavities with volumes in a certain range (say, between 800 and 2000 ($Å^{3}$)); but we don't want **ANY pocket**, we want the pocket that can actually catalyse the substrate; and since we are still uncertain where our active site will end up to, for now we'll use an empty filter."
   ]
  },
  {
   "cell_type": "code",
   "execution_count": null,
   "metadata": {},
   "outputs": [],
   "source": [
    "from biobb_vs.fpocket.fpocket_filter import fpocket_filter\n",
    "\n",
    "fpocket_filter_pockets = \"fpocket_filter_pockets.zip\"\n",
    "prop = {\n",
    "    \"volume\": [200, 300]\n",
    "}\n",
    "\n",
    "fpocket_filter(input_pockets_zip=fpocket_all_pockets,\n",
    "                input_summary = fpocket_summary,\n",
    "                output_filter_pockets_zip=fpocket_filter_pockets,\n",
    "                properties=prop)"
   ]
  },
  {
   "cell_type": "markdown",
   "metadata": {},
   "source": [
    "### Extract selected pockets (cavities)\n",
    "Extract the selected **pockets** (cavities) from the filtered list (zip file, fpocket_filter_pockets).<br>\n",
    "Writing the information in the ***pockets_dir*** folder.<br>\n",
    "Also saving the list of **PDB files** (protein residues forming the pocket) and **PQR files** (cavity, pocket), to be used in following **visualization step**. "
   ]
  },
  {
   "cell_type": "code",
   "execution_count": null,
   "metadata": {},
   "outputs": [],
   "source": [
    "import os\n",
    "import shutil\n",
    "\n",
    "from pathlib import Path, PurePath\n",
    "import zipfile\n",
    "\n",
    "if Path(pockets_dir).exists(): shutil.rmtree(pockets_dir) \n",
    "os.mkdir(pockets_dir)\n",
    "\n",
    "with zipfile.ZipFile(fpocket_filter_pockets, 'r') as zip_ref:\n",
    "    zip_ref.extractall(pockets_dir)\n",
    "\n",
    "path_pockets = [str(i) for i in Path(pockets_dir).iterdir()]\n",
    "path_pockets_pdb = [str(i) for i in Path(pockets_dir).iterdir() if PurePath(i).suffix == '.pdb']\n",
    "path_pockets_pqr = [str(i) for i in Path(pockets_dir).iterdir() if PurePath(i).suffix == '.pqr']"
   ]
  },
  {
   "cell_type": "code",
   "execution_count": null,
   "metadata": {},
   "outputs": [],
   "source": [
    "len(path_pockets_pdb)"
   ]
  },
  {
   "cell_type": "code",
   "execution_count": null,
   "metadata": {},
   "outputs": [],
   "source": [
    "len(path_pockets_pqr)"
   ]
  },
  {
   "cell_type": "markdown",
   "metadata": {},
   "source": [
    "<a id=\"viewPockets\"></a>\n",
    "### Visualizing selected pockets (cavities)\n",
    "Visualizing the selected **pockets** (cavities) from the filtered list using **NGL viewer**.<br>\n",
    "\n",
    "**Protein residues** forming the **cavity** are represented in **random-colored surfaces**. **Pockets** are represented in a **blue-colored mesh**. Different **pockets** are identified with a floating **label**."
   ]
  },
  {
   "cell_type": "code",
   "execution_count": null,
   "metadata": {},
   "outputs": [],
   "source": [
    "import re\n",
    "import random\n",
    "\n",
    "# random colors for cavities\n",
    "r = lambda: random.randint(0,255)\n",
    "\n",
    "# load structure\n",
    "view = nglview.NGLWidget()\n",
    "c = view.add_component(pdb_protein)\n",
    "\n",
    "# load cavities (c) and pockets (p) and create pocketNames list\n",
    "c = {}\n",
    "p = {}\n",
    "pocketNames = []\n",
    "for pock in path_pockets:\n",
    "    g = re.findall('(?:pocket)(\\d+)(?:_\\w+)\\.(\\w+)', pock)\n",
    "    i = g[0][0]\n",
    "    suff = g[0][1]\n",
    "    if not [item for item in pocketNames if ('pocket' + i) in item]: pocketNames.append(('pocket' + i, int(i)))\n",
    "\n",
    "    if suff == 'pdb': # pockets PDB files\n",
    "        c[i] = view.add_component(pock)\n",
    "        c[i].clear()\n",
    "    else:             # pockets PDBQR files\n",
    "        p[i] = view.add_component(pock)\n",
    "        p[i].clear()\n",
    "\n",
    "# sort pocket names\n",
    "pocketNames.sort(key=lambda tup: tup[1])\n",
    "        \n",
    "# representation for cavities\n",
    "for pock in path_pockets_pdb:\n",
    "    g = re.findall('(?:pocket)(\\d+)(?:_\\w+)\\.(\\w+)', pock)\n",
    "    i = g[0][0]\n",
    "    c[i].add_surface(color='#%02X%02X%02X' % (r(),r(),r()),  \n",
    "                     radius='1.5',\n",
    "                     lowResolution= True,\n",
    "                     # 0: low resolution \n",
    "                     smooth=1,\n",
    "                     useWorker= True,\n",
    "                     wrap= True)\n",
    "    \n",
    "# representation for pockets\n",
    "for pock in path_pockets_pqr:\n",
    "    g = re.findall('(?:pocket)(\\d+)(?:_\\w+)\\.(\\w+)', pock)\n",
    "    i = g[0][0]\n",
    "    p[i].add_surface( component=i, color='skyblue', surfaceType= 'av', contour=True )\n",
    "\n",
    "view.center()\n",
    "view._remote_call('setSize', target='Widget', args=['','600px'])\n",
    "view\n"
   ]
  },
  {
   "cell_type": "markdown",
   "metadata": {},
   "source": [
    "<a id=\"selectPockets\"></a>\n",
    "### Select pocket (cavity)\n",
    "Select a specific **pocket** (cavity) from the filtered list to be used in the **docking procedure**. <br>\n",
    "\n",
    "If **fpocket** has been able to identify the correct **binding site**, which we know from the original **protein-ligand structure**, it just needs to be selected. In this particular example, the pocket we are interested in is the **pocket number 6**. <br>\n",
    "\n",
    "Choose a **pocket** from the **DropDown list**:"
   ]
  },
  {
   "cell_type": "code",
   "execution_count": null,
   "metadata": {},
   "outputs": [],
   "source": [
    "mdsel = ipywidgets.Dropdown(\n",
    "    options=pocketNames,\n",
    "    description='Sel. pocket:',\n",
    "    disabled=False,\n",
    ")\n",
    "display(mdsel)"
   ]
  },
  {
   "cell_type": "code",
   "execution_count": null,
   "metadata": {},
   "outputs": [],
   "source": [
    "mdsel.value"
   ]
  },
  {
   "cell_type": "markdown",
   "metadata": {},
   "source": [
    "## Extract Pocket Cavity \n",
    "Extract the selected **protein cavity** (pocket) from the **fpocket** results.<br>\n",
    "\n",
    "It will be used to generate the **docking box** in the **following step**.\n",
    "\n",
    "***\n",
    "**Building Blocks** used:\n",
    " - [fpocket_select](https://biobb-vs.readthedocs.io/en/latest/fpocket.html#module-fpocket.fpocket_select) from **biobb_vs.fpocket.fpocket_select**\n",
    "***"
   ]
  },
  {
   "cell_type": "code",
   "execution_count": null,
   "metadata": {},
   "outputs": [],
   "source": [
    "from biobb_vs.fpocket.fpocket_select import fpocket_select\n",
    "\n",
    "fpocket_cavity = \"fpocket_cavity.pdb\"\n",
    "fpocket_pocket = \"fpocket_pocket.pqr\"\n",
    "prop = {\n",
    "    \"pocket\": mdsel.value\n",
    "}\n",
    "\n",
    "fpocket_select(input_pockets_zip=fpocket_filter_pockets,\n",
    "                output_pocket_pdb = fpocket_cavity,\n",
    "                output_pocket_pqr=fpocket_pocket,\n",
    "                properties=prop)"
   ]
  },
  {
   "cell_type": "markdown",
   "metadata": {},
   "source": [
    "<a id=\"cavityBox\"></a>\n",
    "***\n",
    "## Generating Cavity Box \n",
    "Generating a **box** surrounding the selected **protein cavity** (pocket), to be used in the **docking procedure**. The **box** is defining the region on the **surface** of the **protein target** where the **docking program** should explore a possible **ligand dock**.<br>\n",
    "An offset of **12 Angstroms** is used to generate a **big enough box** to fit the **small molecule** and its possible rotations.<br>\n",
    "\n",
    "***\n",
    "**Building Blocks** used:\n",
    " - [box](https://biobb-vs.readthedocs.io/en/latest/utils.html#module-utils.box) from **biobb_vs.utils.box**\n",
    "***"
   ]
  },
  {
   "cell_type": "code",
   "execution_count": null,
   "metadata": {},
   "outputs": [],
   "source": [
    "from biobb_vs.utils.box import box\n",
    "\n",
    "output_box = \"box.pdb\"\n",
    "prop = {\n",
    "    \"offset\": 12,\n",
    "    \"box_coordinates\": True\n",
    "}\n",
    "\n",
    "box(input_pdb_path = fpocket_pocket,\n",
    "            output_pdb_path = output_box,\n",
    "            properties=prop)"
   ]
  },
  {
   "cell_type": "markdown",
   "metadata": {},
   "source": [
    "<a id=\"vis3D\"></a>\n",
    "### Visualizing binding site box in 3D structure\n",
    "Visualizing the **protein structure**, the **selected cavity**, and the **generated box**, all together using **NGL** viewer. Using the **original structure** with the **small ligand** inside (Imatinib, [STI](https://www.rcsb.org/ligand/STI)), to check that the **selected cavity** is placed in the **same region** as the **original ligand**. "
   ]
  },
  {
   "cell_type": "code",
   "execution_count": null,
   "metadata": {},
   "outputs": [],
   "source": [
    "view = nglview.NGLWidget()\n",
    "s = view.add_component(pdb_protein)\n",
    "b = view.add_component(output_box)\n",
    "p = view.add_component(fpocket_pocket)\n",
    "p.clear()\n",
    "\n",
    "atomPair = [\n",
    "    [ \"9999:Z.ZN1\", \"9999:Z.ZN2\" ],\n",
    "    [ \"9999:Z.ZN2\", \"9999:Z.ZN4\" ],\n",
    "    [ \"9999:Z.ZN4\", \"9999:Z.ZN3\" ],\n",
    "    [ \"9999:Z.ZN3\", \"9999:Z.ZN1\" ],\n",
    "    \n",
    "    [ \"9999:Z.ZN5\", \"9999:Z.ZN6\" ],\n",
    "    [ \"9999:Z.ZN6\", \"9999:Z.ZN8\" ],\n",
    "    [ \"9999:Z.ZN8\", \"9999:Z.ZN7\" ],\n",
    "    [ \"9999:Z.ZN7\", \"9999:Z.ZN5\" ],\n",
    "    \n",
    "    [ \"9999:Z.ZN1\", \"9999:Z.ZN5\" ],\n",
    "    [ \"9999:Z.ZN2\", \"9999:Z.ZN6\" ],\n",
    "    [ \"9999:Z.ZN3\", \"9999:Z.ZN7\" ],\n",
    "    [ \"9999:Z.ZN4\", \"9999:Z.ZN8\" ]\n",
    "]\n",
    "\n",
    "# structure\n",
    "s.add_representation(repr_type='cartoon', \n",
    "                        selection='not het',\n",
    "                        color='#cccccc',\n",
    "                       opacity=.2)\n",
    "# ligands box\n",
    "b.add_representation(repr_type='ball+stick',\n",
    "                     selection='9999',\n",
    "                     color='magenta', \n",
    "                     aspectRatio = 8)\n",
    "# lines box\n",
    "b.add_representation(repr_type='distance', \n",
    "                     atomPair= atomPair,\n",
    "                     labelVisible=False,\n",
    "                     color= 'black')\n",
    "\n",
    "# pocket\n",
    "p.add_surface(component=mdsel.value, \n",
    "              color='pink', \n",
    "              surfaceType= 'av', \n",
    "              lowResolution= True,\n",
    "              # 0: low resolution \n",
    "              smooth=1,\n",
    "              contour=True,\n",
    "              opacity=0.8,\n",
    "              useWorker= True,\n",
    "              wrap= True )\n",
    "\n",
    "\n",
    "view.center()\n",
    "view._remote_call('setSize', target='Widget', args=['','600px'])\n",
    "\n",
    "view"
   ]
  },
  {
   "cell_type": "markdown",
   "metadata": {},
   "source": [
    "<a id=\"downloadSmallMolecule\"></a>\n",
    "***\n",
    "## Downloading Small Molecule \n",
    "Downloading the desired **small molecule** to be used in the **docking procedure**. <br>\n",
    "In this particular example, the small molecule of interest is the FDA-approved drug **Imatinib**, with PDB code **STI**.<br>\n",
    "\n",
    "***\n",
    "**Building Blocks** used:\n",
    " - [ideal_sdf](https://biobb-io.readthedocs.io/en/latest/api.html#module-api.ideal_sdf) from **biobb_io.api.ideal_sdf**\n",
    "***"
   ]
  },
  {
   "cell_type": "code",
   "execution_count": null,
   "metadata": {},
   "outputs": [],
   "source": [
    "from biobb_io.api.ideal_sdf import ideal_sdf\n",
    "\n",
    "sdf_ideal = \"ideal.sdf\"\n",
    "prop = {\n",
    "  \"ligand_code\": ligand_code\n",
    "}\n",
    "\n",
    "ideal_sdf(output_sdf_path=sdf_ideal,\n",
    "    properties=prop)\n"
   ]
  },
  {
   "cell_type": "markdown",
   "metadata": {},
   "source": [
    "<a id=\"sdf2pdb\"></a>\n",
    "***\n",
    "## Converting Small Molecule \n",
    "Converting the desired **small molecule** to be used in the **docking procedure**, from **SDF** format to **PDB** format using the **OpenBabel chemoinformatics** tool. <br>\n",
    "\n",
    "***\n",
    "**Building Blocks** used:\n",
    " - [babel_convert](https://biobb-chemistry.readthedocs.io/en/latest/babelm.html#module-babelm.babel_convert) from **biobb_chemistry.babelm.babel_convert**\n",
    "***"
   ]
  },
  {
   "cell_type": "code",
   "execution_count": null,
   "metadata": {},
   "outputs": [],
   "source": [
    "from biobb_chemistry.babelm.babel_convert import babel_convert\n",
    "\n",
    "ligand = \"ligand.pdb\"\n",
    "prop = {\n",
    "    \"input_format\": \"sdf\",\n",
    "    \"output_format\": \"pdb\",\n",
    "    \"obabel_path\": \"obabel\"\n",
    "}\n",
    "\n",
    "babel_convert(input_path = sdf_ideal,\n",
    "            output_path = ligand,\n",
    "            properties=prop)"
   ]
  },
  {
   "cell_type": "markdown",
   "metadata": {},
   "source": [
    "<a id=\"ligand_pdb2pdbqt\"></a>\n",
    "***\n",
    "## Preparing Small Molecule (ligand) for Docking\n",
    "Preparing the **small molecule** structure for the **docking procedure**. Converting the **PDB file** to a **PDBQT file** format (AutoDock PDBQT: Protein Data Bank, with Partial Charges (Q), & Atom Types (T)), needed by **AutoDock Vina**. <br><br>\n",
    "The process adds **partial charges** and **atom types** to every atom. Besides, the **ligand flexibility** is also defined in the information contained in the file. The concept of **\"torsion tree\"** is used to represent the **rigid and rotatable** pieces of the **ligand**. A rigid piece (**\"root\"**) is defined, with zero or more rotatable pieces (**\"branches\"**), hanging from the root, and defining the **rotatable bonds**.<br><br>\n",
    "More info about **PDBQT file format** can be found in the [AutoDock FAQ pages](http://autodock.scripps.edu/faqs-help/faq/what-is-the-format-of-a-pdbqt-file).\n",
    "\n",
    "***\n",
    "**Building Blocks** used:\n",
    " - [babel_convert](https://biobb-chemistry.readthedocs.io/en/latest/babelm.html#module-babelm.babel_convert) from **biobb_chemistry.babelm.babel_convert**\n",
    "***"
   ]
  },
  {
   "cell_type": "code",
   "execution_count": null,
   "metadata": {},
   "outputs": [],
   "source": [
    "from biobb_chemistry.babelm.babel_convert import babel_convert\n",
    "\n",
    "prep_ligand = \"prep_ligand.pdbqt\"\n",
    "prop = {\n",
    "    \"input_format\": \"pdb\",\n",
    "    \"output_format\": \"pdbqt\",\n",
    "    \"obabel_path\": \"obabel\"\n",
    "}\n",
    "\n",
    "babel_convert(input_path = ligand,\n",
    "            output_path = prep_ligand,\n",
    "            properties=prop)"
   ]
  },
  {
   "cell_type": "markdown",
   "metadata": {},
   "source": [
    "<a id=\"viewDrug\"></a>\n",
    "### Visualizing small molecule (drug)\n",
    "Visualizing the desired **drug** to be docked to the **target protein**, using **NGL viewer**.<br>\n",
    "- **Left panel**: **PDB-formatted** file, with all hydrogen atoms.\n",
    "- **Right panel**: **PDBqt-formatted** file (AutoDock Vina-compatible), with **united atom model** (only polar hydrogens are placed in the structures to correctly type heavy atoms as hydrogen bond donors).\n"
   ]
  },
  {
   "cell_type": "code",
   "execution_count": null,
   "metadata": {},
   "outputs": [],
   "source": [
    "from ipywidgets import HBox\n",
    "\n",
    "v0 = nglview.show_structure_file(ligand)\n",
    "v1 = nglview.show_structure_file(prep_ligand)\n",
    "\n",
    "v0._set_size('500px', '')\n",
    "v1._set_size('500px', '')\n",
    "\n",
    "def on_change(change):\n",
    "    v1._set_camera_orientation(change['new'])\n",
    "    \n",
    "v0.observe(on_change, ['_camera_orientation'])\n",
    "\n",
    "HBox([v0, v1])"
   ]
  },
  {
   "cell_type": "markdown",
   "metadata": {},
   "source": [
    "<a id=\"protein_pdb2pdbqt\"></a>\n",
    "***\n",
    "## Preparing Target Protein for Docking\n",
    "Preparing the **target protein** structure for the **docking procedure**. Converting the **PDB file** to a **PDBqt file**, needed by **AutoDock Vina**. Similarly to the previous step, the process adds **partial charges** and **atom types** to every target protein atom. In this case, however, we are not taking into account **receptor flexibility**, although **Autodock Vina** allows some limited flexibility of selected **receptor side chains** [(see the documentation)](https://autodock-vina.readthedocs.io/en/latest/docking_flexible.html).<br>\n",
    "\n",
    "***\n",
    "**Building Blocks** used:\n",
    " - [str_check_add_hydrogens](https://biobb-structure-utils.readthedocs.io/en/latest/utils.html#utils-str-check-add-hydrogens-module) from **biobb_structure_utils.utils.str_check_add_hydrogens**\n",
    "***"
   ]
  },
  {
   "cell_type": "code",
   "execution_count": null,
   "metadata": {},
   "outputs": [],
   "source": [
    "from biobb_structure_utils.utils.str_check_add_hydrogens import str_check_add_hydrogens\n",
    "\n",
    "prep_receptor = \"prep_receptor.pdbqt\"\n",
    "prop = {\n",
    "    \"charges\": True,\n",
    "    \"mode\": \"auto\"\n",
    "}\n",
    "\n",
    "str_check_add_hydrogens(input_structure_path = pdb_protein,\n",
    "            output_structure_path = prep_receptor,\n",
    "            properties=prop)"
   ]
  },
  {
   "cell_type": "markdown",
   "metadata": {},
   "source": [
    "<a id=\"docking\"></a>\n",
    "***\n",
    "## Running the Docking\n",
    "Running the **docking process** with the prepared files:\n",
    "- **ligand**\n",
    "- **target protein**\n",
    "- **binding site box**<br>\n",
    "\n",
    "using **AutoDock Vina**. <br><br>\n",
    "\n",
    "<div style=\"background:#f3c200; padding: 15px;\"><strong>Important:</strong> At the time of publishing the current version, <strong>autodock_vina has not been compiled for the new ARM mac M1/M2 chips</strong>. So the vina.autodock_vina_run tool doesn't work in these computers.</div>\n",
    "\n",
    "***\n",
    "**Building Blocks** used:\n",
    " - [autodock_vina_run](https://biobb-vs.readthedocs.io/en/latest/vina.html#module-vina.autodock_vina_run) from **biobb_vs.vina.autodock_vina_run**\n",
    "***"
   ]
  },
  {
   "cell_type": "code",
   "execution_count": null,
   "metadata": {},
   "outputs": [],
   "source": [
    "from biobb_vs.vina.autodock_vina_run import autodock_vina_run\n",
    "\n",
    "output_vina_pdbqt = \"output_vina.pdbqt\"\n",
    "output_vina_log = \"output_vina.log\"\n",
    "\n",
    "autodock_vina_run(input_ligand_pdbqt_path = prep_ligand,\n",
    "             input_receptor_pdbqt_path = prep_receptor,\n",
    "             input_box_path = output_box,\n",
    "             output_pdbqt_path = output_vina_pdbqt,\n",
    "             output_log_path = output_vina_log)"
   ]
  },
  {
   "cell_type": "markdown",
   "metadata": {},
   "source": [
    "<a id=\"viewDocking\"></a>\n",
    "### Visualizing docking output poses\n",
    "Visualizing the generated **docking poses** for the **ligand**, using **NGL viewer**. <br>\n",
    "- **Left panel**: **Docking poses** displayed with atoms coloured by **partial charges** and **licorice** representation.\n",
    "- **Right panel**: **Docking poses** displayed with atoms coloured by **element** and **ball-and-stick** representation."
   ]
  },
  {
   "cell_type": "markdown",
   "metadata": {},
   "source": [
    "the `repr_type` seems to be not working"
   ]
  },
  {
   "cell_type": "code",
   "execution_count": null,
   "metadata": {},
   "outputs": [],
   "source": [
    "from ipywidgets import HBox\n",
    "\n",
    "models = 'all'\n",
    "\n",
    "v0 = nglview.show_structure_file(output_vina_pdbqt, default=False)\n",
    "v0.add_representation(repr_type='licorice', \n",
    "                        selection=models,\n",
    "                       colorScheme= 'partialCharge')\n",
    "v0.center()\n",
    "v1 = nglview.show_structure_file(output_vina_pdbqt, default=False)\n",
    "v1.add_representation(repr_type='ball+stick', \n",
    "                        selection=models)\n",
    "v1.center()\n",
    "\n",
    "v0._set_size('500px', '')\n",
    "v1._set_size('500px', '')\n",
    "\n",
    "def on_change(change):\n",
    "    v1._set_camera_orientation(change['new'])\n",
    "    \n",
    "v0.observe(on_change, ['_camera_orientation'])\n",
    "\n",
    "HBox([v0, v1])"
   ]
  },
  {
   "cell_type": "markdown",
   "metadata": {},
   "source": [
    "<a id=\"selectPose\"></a>\n",
    "### Select Docking Pose\n",
    "Select a specific **docking pose** from the output list for **visual inspection**.\n",
    "<br>\n",
    "Choose a **docking pose** from the **DropDown list**."
   ]
  },
  {
   "cell_type": "code",
   "execution_count": null,
   "metadata": {},
   "outputs": [],
   "source": [
    "from Bio.PDB import PDBParser\n",
    "parser = PDBParser(QUIET = True)\n",
    "structure = parser.get_structure(\"protein\", output_vina_pdbqt)\n",
    "models = []\n",
    "for i, m in enumerate(structure):\n",
    "    models.append(('model' + str(i), i))\n",
    "    \n",
    "mdsel = ipywidgets.Dropdown(\n",
    "    options=models,\n",
    "    description='Sel. model:',\n",
    "    disabled=False,\n",
    ")\n",
    "display(mdsel)"
   ]
  },
  {
   "cell_type": "markdown",
   "metadata": {},
   "source": [
    "<a id=\"extractPose\"></a>\n",
    "***\n",
    "## Extract a Docking Pose\n",
    "Extract a specific **docking pose** from the **docking** outputs. <br>\n",
    "\n",
    "***\n",
    "**Building Blocks** used:\n",
    " - [extract_model_pdbqt](https://biobb-vs.readthedocs.io/en/latest/utils.html#module-utils.extract_model_pdbqt) from **biobb_vs.utils.extract_model_pdbqt**\n",
    "***"
   ]
  },
  {
   "cell_type": "code",
   "execution_count": null,
   "metadata": {},
   "outputs": [],
   "source": [
    "from biobb_vs.utils.extract_model_pdbqt import extract_model_pdbqt\n",
    "\n",
    "output_pdbqt_model = \"output_model.pdbqt\"\n",
    "prop = {\n",
    "    \"model\": mdsel.value + 1\n",
    "}\n",
    "\n",
    "extract_model_pdbqt(input_pdbqt_path = output_vina_pdbqt,\n",
    "             output_pdbqt_path = output_pdbqt_model,\n",
    "            properties=prop)"
   ]
  },
  {
   "cell_type": "markdown",
   "metadata": {},
   "source": [
    "<a id=\"pdbqt2pdb\"></a>\n",
    "***\n",
    "## Converting Ligand Pose to PDB format\n",
    "Converting **ligand pose** to **PDB format**. <br>\n",
    "\n",
    "***\n",
    "**Building Blocks** used:\n",
    " - [babel_convert](https://biobb-chemistry.readthedocs.io/en/latest/babelm.html#module-babelm.babel_convert) from **biobb_chemistry.babelm.babel_convert**\n",
    "***"
   ]
  },
  {
   "cell_type": "code",
   "execution_count": null,
   "metadata": {},
   "outputs": [],
   "source": [
    "from biobb_chemistry.babelm.babel_convert import babel_convert\n",
    "\n",
    "output_pdb_model = \"output_model.pdb\"\n",
    "prop = {\n",
    "    \"input_format\": \"pdbqt\",\n",
    "    \"output_format\": \"pdb\",\n",
    "    \"obabel_path\": \"obabel\"\n",
    "}\n",
    "\n",
    "babel_convert(input_path = output_pdbqt_model,\n",
    "             output_path = output_pdb_model,\n",
    "            properties=prop)"
   ]
  },
  {
   "cell_type": "markdown",
   "metadata": {},
   "source": [
    "<a id=\"catPdb\"></a>\n",
    "***\n",
    "## Superposing Ligand Pose to the Target Protein Structure\n",
    "Superposing **ligand pose** to the target **protein structure**, in order to see the **protein-ligand docking conformation**. <br><br>Building a new **PDB file** with both **target and ligand** (binding pose) structures. <br>\n",
    "\n",
    "***\n",
    "**Building Blocks** used:\n",
    " - [cat_pdb](https://biobb-structure-utils.readthedocs.io/en/latest/utils.html#module-utils.cat_pdb) from **biobb_structure_utils.utils.cat_pdb**\n",
    "***"
   ]
  },
  {
   "cell_type": "code",
   "execution_count": null,
   "metadata": {},
   "outputs": [],
   "source": [
    "from biobb_structure_utils.utils.cat_pdb import cat_pdb\n",
    "\n",
    "output_structure = \"output_structure.pdb\"\n",
    "\n",
    "cat_pdb(input_structure1 = pdb_protein,\n",
    "             input_structure2 = output_pdb_model,\n",
    "             output_structure_path = output_structure)"
   ]
  },
  {
   "cell_type": "markdown",
   "metadata": {},
   "source": [
    "<a id=\"viewFinal\"></a>\n",
    "### Comparing final result with experimental structure \n",
    "Visualizing and comparing the generated **protein-ligand** complex with the original **protein-ligand conformation** (downloaded from the PDB database), using **NGL viewer**. <br>\n",
    "- **Licorice, element-colored** representation: **Experimental pose**.\n",
    "- **Licorice, green-colored** representation: **Docking pose**.\n",
    "<br>\n",
    "\n",
    "Note that outputs from **AutoDock Vina** don't contain all the atoms, as the program works with a **united-atom representation** (i.e. only polar hydrogens)."
   ]
  },
  {
   "cell_type": "code",
   "execution_count": null,
   "metadata": {},
   "outputs": [],
   "source": [
    "view = nglview.NGLWidget()\n",
    "\n",
    "# v1 = Experimental Structure\n",
    "v1 = view.add_component(pdb_ligand)\n",
    "\n",
    "v1.clear()\n",
    "v1.add_representation(repr_type='licorice', \n",
    "                     selection='ASP',\n",
    "                     radius=0.5)\n",
    "\n",
    "# v2 = Docking result\n",
    "v2 = view.add_component(output_structure)\n",
    "v2.clear()\n",
    "v2.add_representation(repr_type='cartoon', colorScheme = 'sstruc')\n",
    "v2.add_representation(repr_type='licorice', radius=0.5, color= 'cyan', selection='UNL')\n",
    "\n",
    "view._remote_call('setSize', target='Widget', args=['','600px'])\n",
    "view\n"
   ]
  }
 ],
 "metadata": {
  "kernelspec": {
   "display_name": "Python 3.8.13 ('biobb')",
   "language": "python",
   "name": "python3"
  }
 },
 "nbformat": 4,
 "nbformat_minor": 0
}
